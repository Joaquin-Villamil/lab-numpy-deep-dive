{
 "cells": [
  {
   "cell_type": "code",
   "execution_count": 112,
   "metadata": {},
   "outputs": [],
   "source": [
    "#1. Import the NUMPY package under the name np.\n",
    "import numpy as np"
   ]
  },
  {
   "cell_type": "code",
   "execution_count": 113,
   "metadata": {},
   "outputs": [
    {
     "data": {
      "text/plain": [
       "'1.18.1'"
      ]
     },
     "execution_count": 113,
     "metadata": {},
     "output_type": "execute_result"
    }
   ],
   "source": [
    "#2. Print the NUMPY version and the configuration.\n",
    "np.version.version"
   ]
  },
  {
   "cell_type": "code",
   "execution_count": 114,
   "metadata": {},
   "outputs": [],
   "source": [
    "#3. Generate a 2x3x5 3-dimensional array with random values. Assign the array to variable \"a\"\n",
    "# Challenge: there are at least three easy ways that use numpy to generate random arrays. How many ways can you find?\n",
    "\n",
    "a = np.random.random((2,3,5))\n"
   ]
  },
  {
   "cell_type": "code",
   "execution_count": 115,
   "metadata": {},
   "outputs": [
    {
     "name": "stdout",
     "output_type": "stream",
     "text": [
      "[[[0.00188958 0.09347819 0.17928123 0.69051474 0.60487506]\n",
      "  [0.6651032  0.05502006 0.04313282 0.12609193 0.82010693]\n",
      "  [0.06417502 0.4417934  0.12209056 0.57620702 0.59069064]]\n",
      "\n",
      " [[0.2474954  0.13183952 0.21482968 0.29350495 0.90967026]\n",
      "  [0.10096118 0.31643192 0.19704508 0.21041326 0.39177593]\n",
      "  [0.79232279 0.62727891 0.34121236 0.72222396 0.0939432 ]]]\n"
     ]
    }
   ],
   "source": [
    "#4. Print a.\n",
    "print(a)"
   ]
  },
  {
   "cell_type": "code",
   "execution_count": 116,
   "metadata": {},
   "outputs": [],
   "source": [
    "#5. Create a 5x2x3 3-dimensional array with all values equaling 1.\n",
    "#Assign the array to variable \"b\"\n",
    "b = np.random.random((5,2,3))\n",
    "b.fill(1)"
   ]
  },
  {
   "cell_type": "code",
   "execution_count": 117,
   "metadata": {},
   "outputs": [
    {
     "name": "stdout",
     "output_type": "stream",
     "text": [
      "[[[1. 1. 1.]\n",
      "  [1. 1. 1.]]\n",
      "\n",
      " [[1. 1. 1.]\n",
      "  [1. 1. 1.]]\n",
      "\n",
      " [[1. 1. 1.]\n",
      "  [1. 1. 1.]]\n",
      "\n",
      " [[1. 1. 1.]\n",
      "  [1. 1. 1.]]\n",
      "\n",
      " [[1. 1. 1.]\n",
      "  [1. 1. 1.]]]\n"
     ]
    }
   ],
   "source": [
    "#6. Print b.\n",
    "print(b)"
   ]
  },
  {
   "cell_type": "code",
   "execution_count": 118,
   "metadata": {},
   "outputs": [
    {
     "name": "stdout",
     "output_type": "stream",
     "text": [
      "Tamaño inicial:  (2, 3, 5) (5, 2, 3)\n",
      "Tamaño igual:  (2, 3, 5) (2, 3, 5)\n"
     ]
    }
   ],
   "source": [
    "#7. Do a and b have the same size? How do you prove that in Python code?\n",
    "print(\"Tamaño inicial: \",a.shape,b.shape)\n",
    "c=b.reshape((2,3,5))\n",
    "print(\"Tamaño igual: \",a.shape,c.shape)\n"
   ]
  },
  {
   "cell_type": "code",
   "execution_count": 159,
   "metadata": {},
   "outputs": [
    {
     "name": "stdout",
     "output_type": "stream",
     "text": [
      "[[[1.00188958 1.09347819 1.17928123 1.69051474 1.60487506]\n",
      "  [1.6651032  1.05502006 1.04313282 1.12609193 1.82010693]\n",
      "  [1.06417502 1.4417934  1.12209056 1.57620702 1.59069064]]\n",
      "\n",
      " [[1.2474954  1.13183952 1.21482968 1.29350495 1.90967026]\n",
      "  [1.10096118 1.31643192 1.19704508 1.21041326 1.39177593]\n",
      "  [1.79232279 1.62727891 1.34121236 1.72222396 1.0939432 ]]] \n",
      "\n",
      " A + B no deja por que son diferentes dimenciones pero modificando sl shape de B si deja\n"
     ]
    }
   ],
   "source": [
    "#8. Are you able to add a and b? Why or why not?\n",
    "z=np.add(a,c)\n",
    "print(z,\"\\n\\n A + B no deja por que son diferentes dimenciones pero modificando sl shape de B si deja\")"
   ]
  },
  {
   "cell_type": "code",
   "execution_count": 120,
   "metadata": {},
   "outputs": [
    {
     "name": "stdout",
     "output_type": "stream",
     "text": [
      "(2, 3, 5)\n",
      "[[[1. 1. 1. 1. 1.]\n",
      "  [1. 1. 1. 1. 1.]\n",
      "  [1. 1. 1. 1. 1.]]\n",
      "\n",
      " [[1. 1. 1. 1. 1.]\n",
      "  [1. 1. 1. 1. 1.]\n",
      "  [1. 1. 1. 1. 1.]]]\n"
     ]
    }
   ],
   "source": [
    "#9. Transpose b so that it has the same structure of a (i.e. become a 2x3x5 array). Assign the transposed array to varialbe \"c\".\n",
    "c=b.reshape((2,3,5))\n",
    "print(c.shape)\n",
    "print(c)"
   ]
  },
  {
   "cell_type": "code",
   "execution_count": 196,
   "metadata": {},
   "outputs": [
    {
     "name": "stdout",
     "output_type": "stream",
     "text": [
      "[[[1.00188958 1.09347819 1.17928123 1.69051474 1.60487506]\n",
      "  [1.6651032  1.05502006 1.04313282 1.12609193 1.82010693]\n",
      "  [1.06417502 1.4417934  1.12209056 1.57620702 1.59069064]]\n",
      "\n",
      " [[1.2474954  1.13183952 1.21482968 1.29350495 1.90967026]\n",
      "  [1.10096118 1.31643192 1.19704508 1.21041326 1.39177593]\n",
      "  [1.79232279 1.62727891 1.34121236 1.72222396 1.0939432 ]]]\n"
     ]
    }
   ],
   "source": [
    "#10. Try to add a and c. Now it should work. Assign the sum to varialbe \"d\". But why does it work now?\n",
    "d = a + c\n",
    "print(d)\n"
   ]
  },
  {
   "cell_type": "code",
   "execution_count": 197,
   "metadata": {},
   "outputs": [
    {
     "name": "stdout",
     "output_type": "stream",
     "text": [
      "[[[0.00188958 0.09347819 0.17928123 0.69051474 0.60487506]\n",
      "  [0.6651032  0.05502006 0.04313282 0.12609193 0.82010693]\n",
      "  [0.06417502 0.4417934  0.12209056 0.57620702 0.59069064]]\n",
      "\n",
      " [[0.2474954  0.13183952 0.21482968 0.29350495 0.90967026]\n",
      "  [0.10096118 0.31643192 0.19704508 0.21041326 0.39177593]\n",
      "  [0.79232279 0.62727891 0.34121236 0.72222396 0.0939432 ]]] \n",
      "\n",
      " [[[1.00188958 1.09347819 1.17928123 1.69051474 1.60487506]\n",
      "  [1.6651032  1.05502006 1.04313282 1.12609193 1.82010693]\n",
      "  [1.06417502 1.4417934  1.12209056 1.57620702 1.59069064]]\n",
      "\n",
      " [[1.2474954  1.13183952 1.21482968 1.29350495 1.90967026]\n",
      "  [1.10096118 1.31643192 1.19704508 1.21041326 1.39177593]\n",
      "  [1.79232279 1.62727891 1.34121236 1.72222396 1.0939432 ]]] \n",
      "\n",
      "Tienen la misma estructura, pero los valores diferentes ya que d esta sumada con a y b atraves de c\n"
     ]
    }
   ],
   "source": [
    "#11. Print a and d. Notice the difference and relation of the two array in terms of the values? Explain.\n",
    "print(a, \"\\n\\n\",d,\"\\n\\nTienen la misma estructura, pero los valores diferentes ya que d esta sumada con a y b atraves de c\")"
   ]
  },
  {
   "cell_type": "code",
   "execution_count": 198,
   "metadata": {},
   "outputs": [
    {
     "name": "stdout",
     "output_type": "stream",
     "text": [
      "[[[0.00188958 0.09347819 0.17928123 0.69051474 0.60487506]\n",
      "  [0.6651032  0.05502006 0.04313282 0.12609193 0.82010693]\n",
      "  [0.06417502 0.4417934  0.12209056 0.57620702 0.59069064]]\n",
      "\n",
      " [[0.2474954  0.13183952 0.21482968 0.29350495 0.90967026]\n",
      "  [0.10096118 0.31643192 0.19704508 0.21041326 0.39177593]\n",
      "  [0.79232279 0.62727891 0.34121236 0.72222396 0.0939432 ]]]\n"
     ]
    }
   ],
   "source": [
    "#12. Multiply a and c. Assign the result to e.\n",
    "e = a*c\n",
    "print(e)"
   ]
  },
  {
   "cell_type": "code",
   "execution_count": 199,
   "metadata": {},
   "outputs": [
    {
     "name": "stdout",
     "output_type": "stream",
     "text": [
      "Son iguales por que todo lo que multipliquemos por b será el mismo al ser multiplicado por 1\n",
      "\n",
      " [[[0.00188958 0.09347819 0.17928123 0.69051474 0.60487506]\n",
      "  [0.6651032  0.05502006 0.04313282 0.12609193 0.82010693]\n",
      "  [0.06417502 0.4417934  0.12209056 0.57620702 0.59069064]]\n",
      "\n",
      " [[0.2474954  0.13183952 0.21482968 0.29350495 0.90967026]\n",
      "  [0.10096118 0.31643192 0.19704508 0.21041326 0.39177593]\n",
      "  [0.79232279 0.62727891 0.34121236 0.72222396 0.0939432 ]]] \n",
      "\n",
      " [[[0.00188958 0.09347819 0.17928123 0.69051474 0.60487506]\n",
      "  [0.6651032  0.05502006 0.04313282 0.12609193 0.82010693]\n",
      "  [0.06417502 0.4417934  0.12209056 0.57620702 0.59069064]]\n",
      "\n",
      " [[0.2474954  0.13183952 0.21482968 0.29350495 0.90967026]\n",
      "  [0.10096118 0.31643192 0.19704508 0.21041326 0.39177593]\n",
      "  [0.79232279 0.62727891 0.34121236 0.72222396 0.0939432 ]]]\n"
     ]
    }
   ],
   "source": [
    "#13. Does e equal to a? Why or why not?\n",
    "print(\"Son iguales por que todo lo que multipliquemos por b será el mismo al ser multiplicado por 1\\n\\n\",a, \"\\n\\n\",e)"
   ]
  },
  {
   "cell_type": "code",
   "execution_count": 200,
   "metadata": {},
   "outputs": [
    {
     "name": "stdout",
     "output_type": "stream",
     "text": [
      "1.9096702606531188 1.0018895819648517 1.3555132928378606\n"
     ]
    }
   ],
   "source": [
    "#14. Identify the max, min, and mean values in d. Assign those values to variables \"d_max\", \"d_min\", and \"d_mean\"\n",
    "d_max=d.max()\n",
    "d_min=d.min()\n",
    "d_mean=d.mean()\n",
    "print(d_max,d_min,d_mean)"
   ]
  },
  {
   "cell_type": "code",
   "execution_count": 201,
   "metadata": {},
   "outputs": [
    {
     "name": "stdout",
     "output_type": "stream",
     "text": [
      "[[[1.00188958 1.09347819 1.17928123 1.69051474 1.60487506]\n",
      "  [1.6651032  1.05502006 1.04313282 1.12609193 1.82010693]\n",
      "  [1.06417502 1.4417934  1.12209056 1.57620702 1.59069064]]\n",
      "\n",
      " [[1.2474954  1.13183952 1.21482968 1.29350495 1.90967026]\n",
      "  [1.10096118 1.31643192 1.19704508 1.21041326 1.39177593]\n",
      "  [1.79232279 1.62727891 1.34121236 1.72222396 1.0939432 ]]]\n"
     ]
    }
   ],
   "source": [
    "#15. Now we want to label the values in d. First create an empty array \"f\" with the same shape (i.e. 2x3x5) as d using `np.empty`.\n",
    "f = np.empty((2,3,5))\n",
    "f=d.copy()\n",
    "print(f)"
   ]
  },
  {
   "cell_type": "code",
   "execution_count": 202,
   "metadata": {},
   "outputs": [
    {
     "name": "stdout",
     "output_type": "stream",
     "text": [
      "[[[  0.  25.  25.  75.  75.]\n",
      "  [ 75.  25.  25.  25.  75.]\n",
      "  [ 25.  75.  25.  75.  75.]]\n",
      "\n",
      " [[ 25.  25.  25.  25. 100.]\n",
      "  [ 25.  25.  25.  25.  75.]\n",
      "  [ 75.  75.  25.  75.  25.]]]\n"
     ]
    }
   ],
   "source": [
    "\"\"\"\n",
    "#16. Populate the values in f. For each value in d, \n",
    "if it's larger than d_min but smaller than d_mean, assign 25 to the corresponding value in f.\n",
    "If a value in d is larger than d_mean but smaller than d_max, assign 75 to the corresponding value in f.\n",
    "If a value equals to d_mean, assign 50 to the corresponding value in f.\n",
    "Assign 0 to the corresponding value(s) in f for d_min in d.\n",
    "Assign 100 to the corresponding value(s) in f for d_max in d.\n",
    "In the end, f should have only the following values: 0, 25, 50, 75, and 100.\n",
    "Note: you don't have to use Numpy in this question.\n",
    "\"\"\"\n",
    "i=0\n",
    "j=0\n",
    "k=0\n",
    "for l in f:  \n",
    "    j=0\n",
    "    for m in f[i]:\n",
    "        k=0\n",
    "        for n in f[i,j]:\n",
    "            if f[i,j,k] > d_min and f[i,j,k] < d_mean:\n",
    "                f[i,j,k]=25\n",
    "            if f[i,j,k] > d_mean and f[i,j,k] < d_max:\n",
    "                f[i,j,k]=75\n",
    "            if f[i,j,k] == d_mean:\n",
    "                f[i,j,k]=50\n",
    "            if f[i,j,k] == d_min:\n",
    "                f[i,j,k]=0\n",
    "            if f[i,j,k] == d_max:\n",
    "                f[i,j,k]=100\n",
    "            k+=1\n",
    "        j+=1\n",
    "    i+=1\n",
    "print(f)\n",
    "\n",
    "\n"
   ]
  },
  {
   "cell_type": "code",
   "execution_count": 206,
   "metadata": {},
   "outputs": [
    {
     "name": "stdout",
     "output_type": "stream",
     "text": [
      "Matriz d:\n",
      " [[[1.00188958 1.09347819 1.17928123 1.69051474 1.60487506]\n",
      "  [1.6651032  1.05502006 1.04313282 1.12609193 1.82010693]\n",
      "  [1.06417502 1.4417934  1.12209056 1.57620702 1.59069064]]\n",
      "\n",
      " [[1.2474954  1.13183952 1.21482968 1.29350495 1.90967026]\n",
      "  [1.10096118 1.31643192 1.19704508 1.21041326 1.39177593]\n",
      "  [1.79232279 1.62727891 1.34121236 1.72222396 1.0939432 ]]] \n",
      "\n",
      "Matriz f:\n",
      " [[[  0.  25.  25.  75.  75.]\n",
      "  [ 75.  25.  25.  25.  75.]\n",
      "  [ 25.  75.  25.  75.  75.]]\n",
      "\n",
      " [[ 25.  25.  25.  25. 100.]\n",
      "  [ 25.  25.  25.  25.  75.]\n",
      "  [ 75.  75.  25.  75.  25.]]]\n"
     ]
    }
   ],
   "source": [
    "\n",
    "\"\"\"\n",
    "#17. Print d and f. Do you have your expected f?\n",
    "For instance, if your d is:\n",
    "array([[[1.85836099, 1.67064465, 1.62576044, 1.40243961, 1.88454931],\n",
    "        [1.75354326, 1.69403643, 1.36729252, 1.61415071, 1.12104981],\n",
    "        [1.72201435, 1.1862918 , 1.87078449, 1.7726778 , 1.88180042]],\n",
    "\n",
    "       [[1.44747908, 1.31673383, 1.02000951, 1.52218947, 1.97066381],\n",
    "        [1.79129243, 1.74983003, 1.96028037, 1.85166831, 1.65450881],\n",
    "        [1.18068344, 1.9587381 , 1.00656599, 1.93402165, 1.73514584]]])\n",
    "\n",
    "Your f should be:\n",
    "array([[[ 75.,  75.,  75.,  25.,  75.],\n",
    "        [ 75.,  75.,  25.,  25.,  25.],\n",
    "        [ 75.,  25.,  75.,  75.,  75.]],\n",
    "\n",
    "       [[ 25.,  25.,  25.,  25., 100.],\n",
    "        [ 75.,  75.,  75.,  75.,  75.],\n",
    "        [ 25.,  75.,   0.,  75.,  75.]]])\n",
    "\"\"\"\n",
    "print(\"Matriz d:\\n\",d,\"\\n\\nMatriz f:\\n\",f)"
   ]
  },
  {
   "cell_type": "code",
   "execution_count": 223,
   "metadata": {},
   "outputs": [
    {
     "name": "stdout",
     "output_type": "stream",
     "text": [
      "Matriz d:\n",
      " [[[1.00188958 1.09347819 1.17928123 1.69051474 1.60487506]\n",
      "  [1.6651032  1.05502006 1.04313282 1.12609193 1.82010693]\n",
      "  [1.06417502 1.4417934  1.12209056 1.57620702 1.59069064]]\n",
      "\n",
      " [[1.2474954  1.13183952 1.21482968 1.29350495 1.90967026]\n",
      "  [1.10096118 1.31643192 1.19704508 1.21041326 1.39177593]\n",
      "  [1.79232279 1.62727891 1.34121236 1.72222396 1.0939432 ]]] \n",
      "\n",
      "Matriz h:\n",
      " [[['D' 'A' 'A' 'B' 'B']\n",
      "  ['B' 'A' 'A' 'A' 'B']\n",
      "  ['A' 'B' 'A' 'B' 'B']]\n",
      "\n",
      " [['A' 'A' 'A' 'A' 'E']\n",
      "  ['A' 'A' 'A' 'A' 'B']\n",
      "  ['B' 'B' 'A' 'B' 'A']]]\n"
     ]
    }
   ],
   "source": [
    "\"\"\"\n",
    "#18. Bonus question: instead of using numbers (i.e. 0, 25, 50, 75, and 100), how to use string values \n",
    "(\"A\", \"B\", \"C\", \"D\", and \"E\") to label the array elements? You are expecting the result to be:\n",
    "array([[[ 'D',  'D',  'D',  'B',  'D'],\n",
    "        [ 'D',  'D',  'B',  'B',  'B'],\n",
    "        [ 'D',  'B',  'D',  'D',  'D']],\n",
    "\n",
    "       [[ 'B',  'B',  'B',  'B',  'E'],\n",
    "        [ 'D',  'D',  'D',  'D',  'D'],\n",
    "        [ 'B',  'D',   'A',  'D', 'D']]])\n",
    "Again, you don't need Numpy in this question.\n",
    "\"\"\"\n",
    "g = np.empty((2,3,5))\n",
    "g=d.copy()\n",
    "h=np.empty((2,3,5),dtype=object)\n",
    "#print(h)\n",
    "i=0\n",
    "j=0\n",
    "k=0\n",
    "for l in g:  \n",
    "    j=0\n",
    "    for m in g[i]:\n",
    "        k=0\n",
    "        for n in g[i,j]:\n",
    "            if g[i,j,k] > d_min and g[i,j,k] < d_mean:\n",
    "                h[i,j,k]=\"A\"\n",
    "            if g[i,j,k] > d_mean and g[i,j,k] < d_max:\n",
    "                h[i,j,k]=\"B\"\n",
    "            if g[i,j,k] == d_mean:\n",
    "                h[i,j,k]=\"C\"\n",
    "            if g[i,j,k] == d_min:\n",
    "                h[i,j,k]=\"D\"\n",
    "            if g[i,j,k] == d_max:\n",
    "                h[i,j,k]=\"E\"\n",
    "            k+=1\n",
    "        j+=1\n",
    "    i+=1\n",
    "\n",
    "print(\"Matriz d:\\n\",d,\"\\n\\nMatriz h:\\n\",h)\n"
   ]
  }
 ],
 "metadata": {
  "kernelspec": {
   "display_name": "Python 3",
   "language": "python",
   "name": "python3"
  },
  "language_info": {
   "codemirror_mode": {
    "name": "ipython",
    "version": 3
   },
   "file_extension": ".py",
   "mimetype": "text/x-python",
   "name": "python",
   "nbconvert_exporter": "python",
   "pygments_lexer": "ipython3",
   "version": "3.7.6"
  }
 },
 "nbformat": 4,
 "nbformat_minor": 4
}
